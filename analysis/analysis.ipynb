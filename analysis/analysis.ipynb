{
 "cells": [
  {
   "cell_type": "markdown",
   "id": "96a6f31e",
   "metadata": {},
   "source": [
    "# Proprioo technical test - By Vincent DEBANDE\n",
    "\n",
    "Hello ! My name is Vincent, I'm a last year student in engineering specialised in Data Science and Artificial Intelligence 💻📊\n",
    "\n",
    "The goal of the technical test is to create a scrpit that will \"recommand\" proprety based on customers' needs. The file _\"generated_proprety.json\"_ contains only one object.\n",
    "\n",
    "I decided to do a **quick analysis**, so I can generate data based on the customers. This will improve the demonstration of the algorithm I will write. \n",
    "\n",
    "Let's dive into it 🏡\n",
    "\n",
    "## 1. Loading the data"
   ]
  },
  {
   "cell_type": "code",
   "execution_count": 57,
   "id": "aee0bdec",
   "metadata": {},
   "outputs": [],
   "source": [
    "import pandas as pd\n",
    "import seaborn as sns\n",
    "import matplotlib.pyplot as plt"
   ]
  },
  {
   "cell_type": "code",
   "execution_count": 42,
   "id": "01a5f21a",
   "metadata": {},
   "outputs": [
    {
     "data": {
      "text/html": [
       "<div>\n",
       "<style scoped>\n",
       "    .dataframe tbody tr th:only-of-type {\n",
       "        vertical-align: middle;\n",
       "    }\n",
       "\n",
       "    .dataframe tbody tr th {\n",
       "        vertical-align: top;\n",
       "    }\n",
       "\n",
       "    .dataframe thead th {\n",
       "        text-align: right;\n",
       "    }\n",
       "</style>\n",
       "<table border=\"1\" class=\"dataframe\">\n",
       "  <thead>\n",
       "    <tr style=\"text-align: right;\">\n",
       "      <th></th>\n",
       "      <th>id</th>\n",
       "      <th>lastName</th>\n",
       "      <th>firstName</th>\n",
       "      <th>phone</th>\n",
       "      <th>email</th>\n",
       "      <th>search.surface</th>\n",
       "      <th>search.budget</th>\n",
       "      <th>search.rooms</th>\n",
       "    </tr>\n",
       "  </thead>\n",
       "  <tbody>\n",
       "    <tr>\n",
       "      <th>0</th>\n",
       "      <td>2fb69044-31b5-5dd7-972d-42df5da66d64</td>\n",
       "      <td>Andres</td>\n",
       "      <td>Gerald</td>\n",
       "      <td>09 39 21 62 57</td>\n",
       "      <td>cew@juuv.ge</td>\n",
       "      <td>83</td>\n",
       "      <td>586960</td>\n",
       "      <td>5</td>\n",
       "    </tr>\n",
       "    <tr>\n",
       "      <th>1</th>\n",
       "      <td>c431a5db-50f3-5ff0-87e4-edba559c8861</td>\n",
       "      <td>Jones</td>\n",
       "      <td>Arthur</td>\n",
       "      <td>09 91 06 58 76</td>\n",
       "      <td>sojes@gu.md</td>\n",
       "      <td>90</td>\n",
       "      <td>533181</td>\n",
       "      <td>5</td>\n",
       "    </tr>\n",
       "    <tr>\n",
       "      <th>2</th>\n",
       "      <td>9484f3e5-4a0e-583d-8d81-c994c675688a</td>\n",
       "      <td>Welch</td>\n",
       "      <td>Cory</td>\n",
       "      <td>02 44 59 55 38</td>\n",
       "      <td>ufvu@sihak.gi</td>\n",
       "      <td>74</td>\n",
       "      <td>766722</td>\n",
       "      <td>5</td>\n",
       "    </tr>\n",
       "    <tr>\n",
       "      <th>3</th>\n",
       "      <td>81cbbd58-d1ac-5832-ab90-35ea918cd0c3</td>\n",
       "      <td>Brogioni</td>\n",
       "      <td>Jean</td>\n",
       "      <td>09 87 18 24 23</td>\n",
       "      <td>bek@jezmija.org</td>\n",
       "      <td>82</td>\n",
       "      <td>550889</td>\n",
       "      <td>5</td>\n",
       "    </tr>\n",
       "    <tr>\n",
       "      <th>4</th>\n",
       "      <td>55ffb1f1-f860-5d81-b38d-106f9c81ba0f</td>\n",
       "      <td>Phillips</td>\n",
       "      <td>Mabel</td>\n",
       "      <td>09 97 55 21 57</td>\n",
       "      <td>baf@ufe.na</td>\n",
       "      <td>86</td>\n",
       "      <td>601017</td>\n",
       "      <td>5</td>\n",
       "    </tr>\n",
       "  </tbody>\n",
       "</table>\n",
       "</div>"
      ],
      "text/plain": [
       "                                     id  lastName firstName           phone  \\\n",
       "0  2fb69044-31b5-5dd7-972d-42df5da66d64    Andres    Gerald  09 39 21 62 57   \n",
       "1  c431a5db-50f3-5ff0-87e4-edba559c8861     Jones    Arthur  09 91 06 58 76   \n",
       "2  9484f3e5-4a0e-583d-8d81-c994c675688a     Welch      Cory  02 44 59 55 38   \n",
       "3  81cbbd58-d1ac-5832-ab90-35ea918cd0c3  Brogioni      Jean  09 87 18 24 23   \n",
       "4  55ffb1f1-f860-5d81-b38d-106f9c81ba0f  Phillips     Mabel  09 97 55 21 57   \n",
       "\n",
       "             email  search.surface  search.budget  search.rooms  \n",
       "0      cew@juuv.ge              83         586960             5  \n",
       "1      sojes@gu.md              90         533181             5  \n",
       "2    ufvu@sihak.gi              74         766722             5  \n",
       "3  bek@jezmija.org              82         550889             5  \n",
       "4       baf@ufe.na              86         601017             5  "
      ]
     },
     "execution_count": 42,
     "metadata": {},
     "output_type": "execute_result"
    }
   ],
   "source": [
    "import json\n",
    "\n",
    "# First things first, let's load the data. Since our objects contain nested object (\"search\"), I need to flatten the JSON. \n",
    "\n",
    "with open('../data/generated-customers.json') as data_file:    \n",
    "    data = json.load(data_file)  \n",
    "\n",
    "customers_df = pd.json_normalize(data)\n",
    "customers_df.head()"
   ]
  },
  {
   "cell_type": "code",
   "execution_count": 43,
   "id": "e1199d2a",
   "metadata": {},
   "outputs": [
    {
     "data": {
      "text/html": [
       "<div>\n",
       "<style scoped>\n",
       "    .dataframe tbody tr th:only-of-type {\n",
       "        vertical-align: middle;\n",
       "    }\n",
       "\n",
       "    .dataframe tbody tr th {\n",
       "        vertical-align: top;\n",
       "    }\n",
       "\n",
       "    .dataframe thead th {\n",
       "        text-align: right;\n",
       "    }\n",
       "</style>\n",
       "<table border=\"1\" class=\"dataframe\">\n",
       "  <thead>\n",
       "    <tr style=\"text-align: right;\">\n",
       "      <th></th>\n",
       "      <th>surface</th>\n",
       "      <th>budget</th>\n",
       "      <th>rooms</th>\n",
       "    </tr>\n",
       "  </thead>\n",
       "  <tbody>\n",
       "    <tr>\n",
       "      <th>0</th>\n",
       "      <td>83</td>\n",
       "      <td>586960</td>\n",
       "      <td>5</td>\n",
       "    </tr>\n",
       "    <tr>\n",
       "      <th>1</th>\n",
       "      <td>90</td>\n",
       "      <td>533181</td>\n",
       "      <td>5</td>\n",
       "    </tr>\n",
       "    <tr>\n",
       "      <th>2</th>\n",
       "      <td>74</td>\n",
       "      <td>766722</td>\n",
       "      <td>5</td>\n",
       "    </tr>\n",
       "    <tr>\n",
       "      <th>3</th>\n",
       "      <td>82</td>\n",
       "      <td>550889</td>\n",
       "      <td>5</td>\n",
       "    </tr>\n",
       "    <tr>\n",
       "      <th>4</th>\n",
       "      <td>86</td>\n",
       "      <td>601017</td>\n",
       "      <td>5</td>\n",
       "    </tr>\n",
       "  </tbody>\n",
       "</table>\n",
       "</div>"
      ],
      "text/plain": [
       "   surface  budget  rooms\n",
       "0       83  586960      5\n",
       "1       90  533181      5\n",
       "2       74  766722      5\n",
       "3       82  550889      5\n",
       "4       86  601017      5"
      ]
     },
     "execution_count": 43,
     "metadata": {},
     "output_type": "execute_result"
    }
   ],
   "source": [
    "# My goal is to evaluate the price range, the surface and number of room. I'll get rid of unecessary columns. \n",
    "# Let's rename the features too. \n",
    "\n",
    "customers_df = customers_df[['search.surface', 'search.budget', 'search.rooms']]\n",
    "customers_df.rename(columns={'search.surface':'surface', 'search.budget':'budget', 'search.rooms':'rooms'}, inplace=True)\n",
    "customers_df.head()"
   ]
  },
  {
   "cell_type": "markdown",
   "id": "b78a9071",
   "metadata": {},
   "source": [
    "## 2. Analysis"
   ]
  },
  {
   "cell_type": "code",
   "execution_count": 44,
   "id": "faa6d60c",
   "metadata": {
    "scrolled": true
   },
   "outputs": [
    {
     "data": {
      "text/html": [
       "<div>\n",
       "<style scoped>\n",
       "    .dataframe tbody tr th:only-of-type {\n",
       "        vertical-align: middle;\n",
       "    }\n",
       "\n",
       "    .dataframe tbody tr th {\n",
       "        vertical-align: top;\n",
       "    }\n",
       "\n",
       "    .dataframe thead th {\n",
       "        text-align: right;\n",
       "    }\n",
       "</style>\n",
       "<table border=\"1\" class=\"dataframe\">\n",
       "  <thead>\n",
       "    <tr style=\"text-align: right;\">\n",
       "      <th></th>\n",
       "      <th>surface</th>\n",
       "      <th>budget</th>\n",
       "      <th>rooms</th>\n",
       "    </tr>\n",
       "  </thead>\n",
       "  <tbody>\n",
       "    <tr>\n",
       "      <th>count</th>\n",
       "      <td>50.000000</td>\n",
       "      <td>50.000000</td>\n",
       "      <td>50.0</td>\n",
       "    </tr>\n",
       "    <tr>\n",
       "      <th>mean</th>\n",
       "      <td>91.220000</td>\n",
       "      <td>630775.500000</td>\n",
       "      <td>5.0</td>\n",
       "    </tr>\n",
       "    <tr>\n",
       "      <th>std</th>\n",
       "      <td>12.036153</td>\n",
       "      <td>105449.947342</td>\n",
       "      <td>0.0</td>\n",
       "    </tr>\n",
       "    <tr>\n",
       "      <th>min</th>\n",
       "      <td>74.000000</td>\n",
       "      <td>477678.000000</td>\n",
       "      <td>5.0</td>\n",
       "    </tr>\n",
       "    <tr>\n",
       "      <th>25%</th>\n",
       "      <td>81.000000</td>\n",
       "      <td>525148.500000</td>\n",
       "      <td>5.0</td>\n",
       "    </tr>\n",
       "    <tr>\n",
       "      <th>50%</th>\n",
       "      <td>90.000000</td>\n",
       "      <td>601511.500000</td>\n",
       "      <td>5.0</td>\n",
       "    </tr>\n",
       "    <tr>\n",
       "      <th>75%</th>\n",
       "      <td>100.750000</td>\n",
       "      <td>747349.000000</td>\n",
       "      <td>5.0</td>\n",
       "    </tr>\n",
       "    <tr>\n",
       "      <th>max</th>\n",
       "      <td>112.000000</td>\n",
       "      <td>789691.000000</td>\n",
       "      <td>5.0</td>\n",
       "    </tr>\n",
       "  </tbody>\n",
       "</table>\n",
       "</div>"
      ],
      "text/plain": [
       "          surface         budget  rooms\n",
       "count   50.000000      50.000000   50.0\n",
       "mean    91.220000  630775.500000    5.0\n",
       "std     12.036153  105449.947342    0.0\n",
       "min     74.000000  477678.000000    5.0\n",
       "25%     81.000000  525148.500000    5.0\n",
       "50%     90.000000  601511.500000    5.0\n",
       "75%    100.750000  747349.000000    5.0\n",
       "max    112.000000  789691.000000    5.0"
      ]
     },
     "execution_count": 44,
     "metadata": {},
     "output_type": "execute_result"
    }
   ],
   "source": [
    "customers_df.describe()"
   ]
  },
  {
   "cell_type": "markdown",
   "id": "225510d5",
   "metadata": {},
   "source": [
    "Here we see that : \n",
    "\n",
    "- The number of rooms is **always** 5\n",
    "- The surface and budget are in a pretty wide range\n",
    "\n",
    "Then, our hope is to **find categories of surface and budget**. First, we will visualize the density of each feature.\n",
    "\n",
    "We need to evaluate the correlation between the surface and budget in order to generate proprety respecting the price by m² (I supposed that the surface is m²). First guess is that the two features are **positevly correlated (highly)**, but the budget dosen't only depends on the surface. "
   ]
  },
  {
   "cell_type": "code",
   "execution_count": 49,
   "id": "d4bf15f6",
   "metadata": {},
   "outputs": [],
   "source": [
    "sns.set_theme(style=\"darkgrid\")"
   ]
  },
  {
   "cell_type": "code",
   "execution_count": 65,
   "id": "6097957d",
   "metadata": {},
   "outputs": [
    {
     "data": {
      "text/plain": [
       "<seaborn.axisgrid.FacetGrid at 0x130263fa280>"
      ]
     },
     "execution_count": 65,
     "metadata": {},
     "output_type": "execute_result"
    },
    {
     "data": {
      "image/png": "[encoded data removed]",
      "text/plain": [
       "<Figure size 360x360 with 1 Axes>"
      ]
     },
     "metadata": {},
     "output_type": "display_data"
    }
   ],
   "source": [
    "sns.displot(customers_df, x=\"surface\", kind=\"kde\", bw_adjust=.25)"
   ]
  },
  {
   "cell_type": "code",
   "execution_count": 66,
   "id": "5e6f9770",
   "metadata": {},
   "outputs": [
    {
     "data": {
      "text/plain": [
       "<seaborn.axisgrid.FacetGrid at 0x13026328f10>"
      ]
     },
     "execution_count": 66,
     "metadata": {},
     "output_type": "execute_result"
    },
    {
     "data": {
      "image/png": "[encoded data removed]",
      "text/plain": [
       "<Figure size 360x360 with 1 Axes>"
      ]
     },
     "metadata": {},
     "output_type": "display_data"
    }
   ],
   "source": [
    "sns.displot(customers_df, x=\"budget\", kind=\"kde\", bw_adjust=.25)"
   ]
  },
  {
   "cell_type": "code",
   "execution_count": 68,
   "id": "230c55ff",
   "metadata": {
    "scrolled": true
   },
   "outputs": [
    {
     "data": {
      "text/plain": [
       "<AxesSubplot:xlabel='surface', ylabel='budget'>"
      ]
     },
     "execution_count": 68,
     "metadata": {},
     "output_type": "execute_result"
    },
    {
     "data": {
      "image/png": "[encoded data removed]",
      "text/plain": [
       "<Figure size 432x288 with 1 Axes>"
      ]
     },
     "metadata": {},
     "output_type": "display_data"
    }
   ],
   "source": [
    "sns.scatterplot(data=customers_df, x=\"surface\", y=\"budget\")"
   ]
  },
  {
   "cell_type": "markdown",
   "id": "207ff1a6",
   "metadata": {},
   "source": [
    "## 3. Conclusion\n",
    "\n",
    "This gives us enough indication on how to generate the property : \n",
    "\n",
    "- There are 3 categories of surfaces \n",
    "- There are 3 categoies of budgets \n",
    "- There is no linear correlation between the surface and budget (well, my first guess was wrong)\n",
    "\n",
    "We see that for cat1 : all budgets are represented. For cat2: middle one are not represented. For cat3 only low are high are present. \n",
    "\n",
    "----\n",
    "\n",
    "I will generate the data as following with random surface and random budget without any condition. \n"
   ]
  }
 ],
 "metadata": {
  "kernelspec": {
   "display_name": "Python 3 (ipykernel)",
   "language": "python",
   "name": "python3"
  },
  "language_info": {
   "codemirror_mode": {
    "name": "ipython",
    "version": 3
   },
   "file_extension": ".py",
   "mimetype": "text/x-python",
   "name": "python",
   "nbconvert_exporter": "python",
   "pygments_lexer": "ipython3",
   "version": "3.9.7"
  }
 },
 "nbformat": 4,
 "nbformat_minor": 5
}
